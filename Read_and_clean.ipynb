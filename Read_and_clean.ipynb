{
 "cells": [
  {
   "cell_type": "markdown",
   "metadata": {},
   "source": [
    "Reading the Excel file with the archaeological sites from Opole Voivodeship; cleaning and normalising the data.<br/>\n",
    "File downloaded from http://www.wuozopole.pl/ochrona/rejestr-zabytkow"
   ]
  },
  {
   "cell_type": "code",
   "execution_count": 1,
   "metadata": {},
   "outputs": [],
   "source": [
    "import pandas as pd\n",
    "from pymongo import MongoClient"
   ]
  },
  {
   "cell_type": "code",
   "execution_count": 2,
   "metadata": {},
   "outputs": [
    {
     "data": {
      "text/html": [
       "<div>\n",
       "<style scoped>\n",
       "    .dataframe tbody tr th:only-of-type {\n",
       "        vertical-align: middle;\n",
       "    }\n",
       "\n",
       "    .dataframe tbody tr th {\n",
       "        vertical-align: top;\n",
       "    }\n",
       "\n",
       "    .dataframe thead th {\n",
       "        text-align: right;\n",
       "    }\n",
       "</style>\n",
       "<table border=\"1\" class=\"dataframe\">\n",
       "  <thead>\n",
       "    <tr style=\"text-align: right;\">\n",
       "      <th></th>\n",
       "      <th>Gmina</th>\n",
       "      <th>Miejscowość</th>\n",
       "      <th>Nr stanowiska</th>\n",
       "      <th>Typ stanowiska</th>\n",
       "      <th>Chronologia</th>\n",
       "      <th>Nr rejestru zabytków</th>\n",
       "      <th>Unnamed: 6</th>\n",
       "    </tr>\n",
       "  </thead>\n",
       "  <tbody>\n",
       "    <tr>\n",
       "      <th>0</th>\n",
       "      <td>Baborów</td>\n",
       "      <td>NaN</td>\n",
       "      <td>NaN</td>\n",
       "      <td>NaN</td>\n",
       "      <td>NaN</td>\n",
       "      <td>NaN</td>\n",
       "      <td>NaN</td>\n",
       "    </tr>\n",
       "    <tr>\n",
       "      <th>1</th>\n",
       "      <td>NaN</td>\n",
       "      <td>Babice</td>\n",
       "      <td>NaN</td>\n",
       "      <td>NaN</td>\n",
       "      <td>NaN</td>\n",
       "      <td>NaN</td>\n",
       "      <td>NaN</td>\n",
       "    </tr>\n",
       "    <tr>\n",
       "      <th>2</th>\n",
       "      <td>NaN</td>\n",
       "      <td>NaN</td>\n",
       "      <td>16</td>\n",
       "      <td>osada</td>\n",
       "      <td>neolit, okres wpływów rzymskich</td>\n",
       "      <td>A - 247/70</td>\n",
       "      <td>NaN</td>\n",
       "    </tr>\n",
       "    <tr>\n",
       "      <th>3</th>\n",
       "      <td>NaN</td>\n",
       "      <td>NaN</td>\n",
       "      <td>21</td>\n",
       "      <td>osada</td>\n",
       "      <td>neolit</td>\n",
       "      <td>A - 901/90</td>\n",
       "      <td>NaN</td>\n",
       "    </tr>\n",
       "    <tr>\n",
       "      <th>4</th>\n",
       "      <td>NaN</td>\n",
       "      <td>NaN</td>\n",
       "      <td>22</td>\n",
       "      <td>osada</td>\n",
       "      <td>neolit, średniowiecze,pradzieje</td>\n",
       "      <td>A - 378/73</td>\n",
       "      <td>NaN</td>\n",
       "    </tr>\n",
       "  </tbody>\n",
       "</table>\n",
       "</div>"
      ],
      "text/plain": [
       "     Gmina Miejscowość Nr stanowiska Typ stanowiska  \\\n",
       "0  Baborów         NaN           NaN            NaN   \n",
       "1      NaN      Babice           NaN            NaN   \n",
       "2      NaN         NaN            16          osada   \n",
       "3      NaN         NaN            21          osada   \n",
       "4      NaN         NaN            22          osada   \n",
       "\n",
       "                       Chronologia Nr rejestru zabytków Unnamed: 6  \n",
       "0                              NaN                  NaN        NaN  \n",
       "1                              NaN                  NaN        NaN  \n",
       "2  neolit, okres wpływów rzymskich           A - 247/70        NaN  \n",
       "3                           neolit           A - 901/90        NaN  \n",
       "4  neolit, średniowiecze,pradzieje           A - 378/73        NaN  "
      ]
     },
     "execution_count": 2,
     "metadata": {},
     "output_type": "execute_result"
    }
   ],
   "source": [
    "df = pd.read_excel('rejestr_archeologia.xls')\n",
    "df.head()"
   ]
  },
  {
   "cell_type": "markdown",
   "metadata": {},
   "source": [
    "Remove unused column."
   ]
  },
  {
   "cell_type": "code",
   "execution_count": 3,
   "metadata": {},
   "outputs": [
    {
     "data": {
      "text/html": [
       "<div>\n",
       "<style scoped>\n",
       "    .dataframe tbody tr th:only-of-type {\n",
       "        vertical-align: middle;\n",
       "    }\n",
       "\n",
       "    .dataframe tbody tr th {\n",
       "        vertical-align: top;\n",
       "    }\n",
       "\n",
       "    .dataframe thead th {\n",
       "        text-align: right;\n",
       "    }\n",
       "</style>\n",
       "<table border=\"1\" class=\"dataframe\">\n",
       "  <thead>\n",
       "    <tr style=\"text-align: right;\">\n",
       "      <th></th>\n",
       "      <th>Gmina</th>\n",
       "      <th>Miejscowość</th>\n",
       "      <th>Nr stanowiska</th>\n",
       "      <th>Typ stanowiska</th>\n",
       "      <th>Chronologia</th>\n",
       "      <th>Nr rejestru zabytków</th>\n",
       "    </tr>\n",
       "  </thead>\n",
       "  <tbody>\n",
       "    <tr>\n",
       "      <th>0</th>\n",
       "      <td>Baborów</td>\n",
       "      <td>NaN</td>\n",
       "      <td>NaN</td>\n",
       "      <td>NaN</td>\n",
       "      <td>NaN</td>\n",
       "      <td>NaN</td>\n",
       "    </tr>\n",
       "    <tr>\n",
       "      <th>1</th>\n",
       "      <td>NaN</td>\n",
       "      <td>Babice</td>\n",
       "      <td>NaN</td>\n",
       "      <td>NaN</td>\n",
       "      <td>NaN</td>\n",
       "      <td>NaN</td>\n",
       "    </tr>\n",
       "    <tr>\n",
       "      <th>2</th>\n",
       "      <td>NaN</td>\n",
       "      <td>NaN</td>\n",
       "      <td>16</td>\n",
       "      <td>osada</td>\n",
       "      <td>neolit, okres wpływów rzymskich</td>\n",
       "      <td>A - 247/70</td>\n",
       "    </tr>\n",
       "    <tr>\n",
       "      <th>3</th>\n",
       "      <td>NaN</td>\n",
       "      <td>NaN</td>\n",
       "      <td>21</td>\n",
       "      <td>osada</td>\n",
       "      <td>neolit</td>\n",
       "      <td>A - 901/90</td>\n",
       "    </tr>\n",
       "    <tr>\n",
       "      <th>4</th>\n",
       "      <td>NaN</td>\n",
       "      <td>NaN</td>\n",
       "      <td>22</td>\n",
       "      <td>osada</td>\n",
       "      <td>neolit, średniowiecze,pradzieje</td>\n",
       "      <td>A - 378/73</td>\n",
       "    </tr>\n",
       "  </tbody>\n",
       "</table>\n",
       "</div>"
      ],
      "text/plain": [
       "     Gmina Miejscowość Nr stanowiska Typ stanowiska  \\\n",
       "0  Baborów         NaN           NaN            NaN   \n",
       "1      NaN      Babice           NaN            NaN   \n",
       "2      NaN         NaN            16          osada   \n",
       "3      NaN         NaN            21          osada   \n",
       "4      NaN         NaN            22          osada   \n",
       "\n",
       "                       Chronologia Nr rejestru zabytków  \n",
       "0                              NaN                  NaN  \n",
       "1                              NaN                  NaN  \n",
       "2  neolit, okres wpływów rzymskich           A - 247/70  \n",
       "3                           neolit           A - 901/90  \n",
       "4  neolit, średniowiecze,pradzieje           A - 378/73  "
      ]
     },
     "execution_count": 3,
     "metadata": {},
     "output_type": "execute_result"
    }
   ],
   "source": [
    "df = df[['Gmina','Miejscowość','Nr stanowiska','Typ stanowiska','Chronologia','Nr rejestru zabytków']]\n",
    "df.head()"
   ]
  },
  {
   "cell_type": "markdown",
   "metadata": {},
   "source": [
    "Rename columns - remove Polish characters and white spaces."
   ]
  },
  {
   "cell_type": "code",
   "execution_count": 4,
   "metadata": {},
   "outputs": [],
   "source": [
    "df.rename(index=str, columns={\"Miejscowość\": \"Miejscowosc\",\n",
    "                              \"Nr stanowiska\": \"Nr_stanowiska\",\n",
    "                              \"Typ stanowiska\": \"Typ_stanowiska\",\n",
    "                              \"Nr rejestru zabytków\": \"Nr_rejestru_zabytkow\"}, inplace = True)"
   ]
  },
  {
   "cell_type": "markdown",
   "metadata": {},
   "source": [
    "Forward-fill Gmina (Municipality) and Miejscowość (Locality) columns."
   ]
  },
  {
   "cell_type": "code",
   "execution_count": 5,
   "metadata": {},
   "outputs": [
    {
     "data": {
      "text/html": [
       "<div>\n",
       "<style scoped>\n",
       "    .dataframe tbody tr th:only-of-type {\n",
       "        vertical-align: middle;\n",
       "    }\n",
       "\n",
       "    .dataframe tbody tr th {\n",
       "        vertical-align: top;\n",
       "    }\n",
       "\n",
       "    .dataframe thead th {\n",
       "        text-align: right;\n",
       "    }\n",
       "</style>\n",
       "<table border=\"1\" class=\"dataframe\">\n",
       "  <thead>\n",
       "    <tr style=\"text-align: right;\">\n",
       "      <th></th>\n",
       "      <th>Gmina</th>\n",
       "      <th>Miejscowosc</th>\n",
       "      <th>Nr_stanowiska</th>\n",
       "      <th>Typ_stanowiska</th>\n",
       "      <th>Chronologia</th>\n",
       "      <th>Nr_rejestru_zabytkow</th>\n",
       "    </tr>\n",
       "  </thead>\n",
       "  <tbody>\n",
       "    <tr>\n",
       "      <th>0</th>\n",
       "      <td>Baborów</td>\n",
       "      <td>NaN</td>\n",
       "      <td>NaN</td>\n",
       "      <td>NaN</td>\n",
       "      <td>NaN</td>\n",
       "      <td>NaN</td>\n",
       "    </tr>\n",
       "    <tr>\n",
       "      <th>1</th>\n",
       "      <td>Baborów</td>\n",
       "      <td>Babice</td>\n",
       "      <td>NaN</td>\n",
       "      <td>NaN</td>\n",
       "      <td>NaN</td>\n",
       "      <td>NaN</td>\n",
       "    </tr>\n",
       "    <tr>\n",
       "      <th>2</th>\n",
       "      <td>Baborów</td>\n",
       "      <td>Babice</td>\n",
       "      <td>16</td>\n",
       "      <td>osada</td>\n",
       "      <td>neolit, okres wpływów rzymskich</td>\n",
       "      <td>A - 247/70</td>\n",
       "    </tr>\n",
       "    <tr>\n",
       "      <th>3</th>\n",
       "      <td>Baborów</td>\n",
       "      <td>Babice</td>\n",
       "      <td>21</td>\n",
       "      <td>osada</td>\n",
       "      <td>neolit</td>\n",
       "      <td>A - 901/90</td>\n",
       "    </tr>\n",
       "    <tr>\n",
       "      <th>4</th>\n",
       "      <td>Baborów</td>\n",
       "      <td>Babice</td>\n",
       "      <td>22</td>\n",
       "      <td>osada</td>\n",
       "      <td>neolit, średniowiecze,pradzieje</td>\n",
       "      <td>A - 378/73</td>\n",
       "    </tr>\n",
       "  </tbody>\n",
       "</table>\n",
       "</div>"
      ],
      "text/plain": [
       "     Gmina Miejscowosc Nr_stanowiska Typ_stanowiska  \\\n",
       "0  Baborów         NaN           NaN            NaN   \n",
       "1  Baborów      Babice           NaN            NaN   \n",
       "2  Baborów      Babice            16          osada   \n",
       "3  Baborów      Babice            21          osada   \n",
       "4  Baborów      Babice            22          osada   \n",
       "\n",
       "                       Chronologia Nr_rejestru_zabytkow  \n",
       "0                              NaN                  NaN  \n",
       "1                              NaN                  NaN  \n",
       "2  neolit, okres wpływów rzymskich           A - 247/70  \n",
       "3                           neolit           A - 901/90  \n",
       "4  neolit, średniowiecze,pradzieje           A - 378/73  "
      ]
     },
     "execution_count": 5,
     "metadata": {},
     "output_type": "execute_result"
    }
   ],
   "source": [
    "df[['Gmina', 'Miejscowosc']] = df[['Gmina', 'Miejscowosc']].fillna(method='ffill')\n",
    "df.head()"
   ]
  },
  {
   "cell_type": "markdown",
   "metadata": {},
   "source": [
    "Remove empty records."
   ]
  },
  {
   "cell_type": "code",
   "execution_count": 7,
   "metadata": {},
   "outputs": [
    {
     "data": {
      "text/html": [
       "<div>\n",
       "<style scoped>\n",
       "    .dataframe tbody tr th:only-of-type {\n",
       "        vertical-align: middle;\n",
       "    }\n",
       "\n",
       "    .dataframe tbody tr th {\n",
       "        vertical-align: top;\n",
       "    }\n",
       "\n",
       "    .dataframe thead th {\n",
       "        text-align: right;\n",
       "    }\n",
       "</style>\n",
       "<table border=\"1\" class=\"dataframe\">\n",
       "  <thead>\n",
       "    <tr style=\"text-align: right;\">\n",
       "      <th></th>\n",
       "      <th>Gmina</th>\n",
       "      <th>Miejscowosc</th>\n",
       "      <th>Nr_stanowiska</th>\n",
       "      <th>Typ_stanowiska</th>\n",
       "      <th>Chronologia</th>\n",
       "      <th>Nr_rejestru_zabytkow</th>\n",
       "    </tr>\n",
       "  </thead>\n",
       "  <tbody>\n",
       "    <tr>\n",
       "      <th>2</th>\n",
       "      <td>Baborów</td>\n",
       "      <td>Babice</td>\n",
       "      <td>16</td>\n",
       "      <td>osada</td>\n",
       "      <td>neolit, okres wpływów rzymskich</td>\n",
       "      <td>A - 247/70</td>\n",
       "    </tr>\n",
       "    <tr>\n",
       "      <th>3</th>\n",
       "      <td>Baborów</td>\n",
       "      <td>Babice</td>\n",
       "      <td>21</td>\n",
       "      <td>osada</td>\n",
       "      <td>neolit</td>\n",
       "      <td>A - 901/90</td>\n",
       "    </tr>\n",
       "    <tr>\n",
       "      <th>4</th>\n",
       "      <td>Baborów</td>\n",
       "      <td>Babice</td>\n",
       "      <td>22</td>\n",
       "      <td>osada</td>\n",
       "      <td>neolit, średniowiecze,pradzieje</td>\n",
       "      <td>A - 378/73</td>\n",
       "    </tr>\n",
       "    <tr>\n",
       "      <th>5</th>\n",
       "      <td>Baborów</td>\n",
       "      <td>Babice</td>\n",
       "      <td>23</td>\n",
       "      <td>?</td>\n",
       "      <td>neolit, kultura łużycka, kultura przeworska</td>\n",
       "      <td>A - 372/73</td>\n",
       "    </tr>\n",
       "    <tr>\n",
       "      <th>6</th>\n",
       "      <td>Baborów</td>\n",
       "      <td>Babice</td>\n",
       "      <td>24</td>\n",
       "      <td>osada</td>\n",
       "      <td>neolit, kultura celtycka</td>\n",
       "      <td>A - 428/76</td>\n",
       "    </tr>\n",
       "  </tbody>\n",
       "</table>\n",
       "</div>"
      ],
      "text/plain": [
       "     Gmina Miejscowosc Nr_stanowiska Typ_stanowiska  \\\n",
       "2  Baborów      Babice            16          osada   \n",
       "3  Baborów      Babice            21          osada   \n",
       "4  Baborów      Babice            22          osada   \n",
       "5  Baborów      Babice            23              ?   \n",
       "6  Baborów      Babice            24          osada   \n",
       "\n",
       "                                   Chronologia Nr_rejestru_zabytkow  \n",
       "2              neolit, okres wpływów rzymskich           A - 247/70  \n",
       "3                                       neolit           A - 901/90  \n",
       "4              neolit, średniowiecze,pradzieje           A - 378/73  \n",
       "5  neolit, kultura łużycka, kultura przeworska           A - 372/73  \n",
       "6                     neolit, kultura celtycka           A - 428/76  "
      ]
     },
     "execution_count": 7,
     "metadata": {},
     "output_type": "execute_result"
    }
   ],
   "source": [
    "df = df[pd.notna(df['Nr_stanowiska'])]\n",
    "df.head()"
   ]
  },
  {
   "cell_type": "markdown",
   "metadata": {},
   "source": [
    "Save in MongoDB."
   ]
  },
  {
   "cell_type": "code",
   "execution_count": 8,
   "metadata": {},
   "outputs": [
    {
     "data": {
      "text/plain": [
       "<pymongo.results.InsertManyResult at 0x7f80fa90f888>"
      ]
     },
     "execution_count": 8,
     "metadata": {},
     "output_type": "execute_result"
    }
   ],
   "source": [
    "client = MongoClient('localhost', 27017)\n",
    "db = client['archeo']\n",
    "db.sites.insert_many(df.to_dict('records'))"
   ]
  }
 ],
 "metadata": {
  "kernelspec": {
   "display_name": "Python 3",
   "language": "python",
   "name": "python3"
  },
  "language_info": {
   "codemirror_mode": {
    "name": "ipython",
    "version": 3
   },
   "file_extension": ".py",
   "mimetype": "text/x-python",
   "name": "python",
   "nbconvert_exporter": "python",
   "pygments_lexer": "ipython3",
   "version": "3.6.6"
  }
 },
 "nbformat": 4,
 "nbformat_minor": 2
}
