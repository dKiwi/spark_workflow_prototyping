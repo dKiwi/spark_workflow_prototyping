{
 "cells": [
  {
   "cell_type": "code",
   "execution_count": 1,
   "metadata": {},
   "outputs": [],
   "source": [
    "import findspark\n",
    "findspark.init()\n",
    "\n",
    "import pyspark\n",
    "import os\n",
    "os.environ['PYSPARK_SUBMIT_ARGS'] = '--packages org.mongodb.spark:mongo-spark-connector_2.11:2.3.0 pyspark-shell'\n",
    "\n"
   ]
  },
  {
   "cell_type": "markdown",
   "metadata": {},
   "source": [
    "Set Spark and SQL context."
   ]
  },
  {
   "cell_type": "code",
   "execution_count": 2,
   "metadata": {},
   "outputs": [],
   "source": [
    "conf=pyspark.SparkConf()\n",
    "conf.set('spark.mongodb.input.uri','mongodb://127.0.0.1/archeo.sites?readPreference=primaryPreferred')\n",
    "conf.set('spark.mongodb.output.uri','mongodb://127.0.0.1/archeo.sites')\n",
    "sc =pyspark.SparkContext(conf=conf)\n",
    "sqlContext =pyspark.SQLContext(sc)"
   ]
  },
  {
   "cell_type": "code",
   "execution_count": 3,
   "metadata": {},
   "outputs": [
    {
     "data": {
      "text/html": [
       "\n",
       "        <div>\n",
       "            <p><b>SparkContext</b></p>\n",
       "\n",
       "            <p><a href=\"http://10.172.49.159:4040\">Spark UI</a></p>\n",
       "\n",
       "            <dl>\n",
       "              <dt>Version</dt>\n",
       "                <dd><code>v2.3.1</code></dd>\n",
       "              <dt>Master</dt>\n",
       "                <dd><code>local[*]</code></dd>\n",
       "              <dt>AppName</dt>\n",
       "                <dd><code>pyspark-shell</code></dd>\n",
       "            </dl>\n",
       "        </div>\n",
       "        "
      ],
      "text/plain": [
       "<SparkContext master=local[*] appName=pyspark-shell>"
      ]
     },
     "execution_count": 3,
     "metadata": {},
     "output_type": "execute_result"
    }
   ],
   "source": [
    "sc"
   ]
  },
  {
   "cell_type": "code",
   "execution_count": 3,
   "metadata": {},
   "outputs": [
    {
     "name": "stdout",
     "output_type": "stream",
     "text": [
      "root\n",
      " |-- Chronologia: string (nullable = true)\n",
      " |-- Gmina: string (nullable = true)\n",
      " |-- Miejscowosc: string (nullable = true)\n",
      " |-- Nr_rejestru_zabytkow: string (nullable = true)\n",
      " |-- Nr_stanowiska: string (nullable = true)\n",
      " |-- Typ_stanowiska: string (nullable = true)\n",
      " |-- _id: struct (nullable = true)\n",
      " |    |-- oid: string (nullable = true)\n",
      "\n"
     ]
    }
   ],
   "source": [
    "df = sqlContext.read.format(\"com.mongodb.spark.sql.DefaultSource\").load()\n",
    "df.printSchema()"
   ]
  },
  {
   "cell_type": "code",
   "execution_count": 4,
   "metadata": {},
   "outputs": [
    {
     "name": "stdout",
     "output_type": "stream",
     "text": [
      "+--------------------+-------+-----------+--------------------+-------------+--------------------+--------------------+\n",
      "|         Chronologia|  Gmina|Miejscowosc|Nr_rejestru_zabytkow|Nr_stanowiska|      Typ_stanowiska|                 _id|\n",
      "+--------------------+-------+-----------+--------------------+-------------+--------------------+--------------------+\n",
      "|neolit, okres wpł...|Baborów|     Babice|          A - 247/70|           16|               osada|[5ba16d7bfa9b9f35...|\n",
      "|              neolit|Baborów|     Babice|          A - 901/90|           21|               osada|[5ba16d7bfa9b9f35...|\n",
      "|neolit, średniowi...|Baborów|     Babice|          A - 378/73|           22|               osada|[5ba16d7bfa9b9f35...|\n",
      "|neolit, kultura ł...|Baborów|     Babice|          A - 372/73|           23|                   ?|[5ba16d7bfa9b9f35...|\n",
      "|neolit, kultura c...|Baborów|     Babice|          A - 428/76|           24|               osada|[5ba16d7bfa9b9f35...|\n",
      "|neolit,  późny ok...|Baborów|     Babice|          A - 427/76|           25|               osada|[5ba16d7bfa9b9f35...|\n",
      "|neolit ( kultura ...|Baborów|    Baborów|          A-105/2011|            1|osada, punkt osad...|[5ba16d7bfa9b9f35...|\n",
      "|neolit, epoka brą...|Baborów|Boguchwałów|          A-111/2010|            1|ślad osadnictwa, ...|[5ba16d7bfa9b9f35...|\n",
      "|późny okres lateń...|Baborów|Boguchwałów|          A - 895/90|           32|               osada|[5ba16d7bfa9b9f35...|\n",
      "|kultura przeworsk...|Baborów|Boguchwałów|          A - 892/90|           37|               osada|[5ba16d7bfa9b9f35...|\n",
      "|późny okres lateń...|Baborów|Boguchwałów|          A - 893/90|           38|               osada|[5ba16d7bfa9b9f35...|\n",
      "|neolit, późny okr...|Baborów|Boguchwałów|          A - 894/90|           50|               osada|[5ba16d7bfa9b9f35...|\n",
      "|neolit, kultura p...|Baborów|Boguchwałów|          A - 903/90|           39|               osada|[5ba16d7bfa9b9f35...|\n",
      "|neolit, kultura p...|Baborów|Boguchwałów|          A-100/2010|           40|punkt osadniczy, ...|[5ba16d7bfa9b9f35...|\n",
      "|kultura łużycka (...|Baborów|Boguchwałów|          A-102/2010|           46|               osada|[5ba16d7bfa9b9f35...|\n",
      "|kultura łużcyka (...|Baborów|Boguchwałów|          A-103/2010|           47|               osada|[5ba16d7bfa9b9f35...|\n",
      "|neolit, kultura ł...|Baborów|Boguchwałów|          A-101/2010|           48|punkt osadniczy, ...|[5ba16d7bfa9b9f35...|\n",
      "|kultura łużycka (...|Baborów| Czerwonków|          A - 907/90|            9|               osada|[5ba16d7bfa9b9f35...|\n",
      "|okres wpływów rzy...|Baborów| Czerwonków|          A-119/2001|           17|osada, ślad osadn...|[5ba16d7bfa9b9f35...|\n",
      "|epoka brązu ( kul...|Baborów| Czerwonków|          A-120/2011|           18|osada, ślad osadn...|[5ba16d7bfa9b9f35...|\n",
      "+--------------------+-------+-----------+--------------------+-------------+--------------------+--------------------+\n",
      "only showing top 20 rows\n",
      "\n"
     ]
    }
   ],
   "source": [
    "df.show()"
   ]
  },
  {
   "cell_type": "markdown",
   "metadata": {},
   "source": [
    "Pipeline aggregation"
   ]
  },
  {
   "cell_type": "code",
   "execution_count": 5,
   "metadata": {},
   "outputs": [
    {
     "data": {
      "text/plain": [
       "[Row(Chronologia='średniowiecze ( XIV w. )', Gmina='Kluczbork', Miejscowosc='Bąków', Nr_rejestru_zabytkow='A - 313/70', Nr_stanowiska=1, Typ_stanowiska='grodzisko', _id=Row(oid='5ba16d7bfa9b9f35083a82d2')),\n",
       " Row(Chronologia='średniowiecze', Gmina='Kluczbork', Miejscowosc='Bąków', Nr_rejestru_zabytkow='A - 312/70', Nr_stanowiska=2, Typ_stanowiska='grodzisko', _id=Row(oid='5ba16d7bfa9b9f35083a82d3')),\n",
       " Row(Chronologia='średniowiecze', Gmina='Kluczbork', Miejscowosc='Biadacz', Nr_rejestru_zabytkow='A - 384/74', Nr_stanowiska=5, Typ_stanowiska='grodzisko', _id=Row(oid='5ba16d7bfa9b9f35083a82d4')),\n",
       " Row(Chronologia='kultura łużycka, średniowiecze', Gmina='Kluczbork', Miejscowosc='Bogacica', Nr_rejestru_zabytkow='A - 1075/98', Nr_stanowiska=11, Typ_stanowiska='osada', _id=Row(oid='5ba16d7bfa9b9f35083a82d5')),\n",
       " Row(Chronologia='średniowiecze', Gmina='Kluczbork', Miejscowosc='Czaple Stare', Nr_rejestru_zabytkow='A - 510/79', Nr_stanowiska=3, Typ_stanowiska='osada', _id=Row(oid='5ba16d7bfa9b9f35083a82d6'))]"
      ]
     },
     "execution_count": 5,
     "metadata": {},
     "output_type": "execute_result"
    }
   ],
   "source": [
    "pipeline = \"{'$match': {'Gmina': 'Kluczbork'}}\"\n",
    "df = sqlContext.read.format(\"com.mongodb.spark.sql.DefaultSource\").option(\"pipeline\", pipeline).load()\n",
    "df.head(5)"
   ]
  },
  {
   "cell_type": "markdown",
   "metadata": {},
   "source": [
    "Filter"
   ]
  },
  {
   "cell_type": "code",
   "execution_count": 6,
   "metadata": {},
   "outputs": [
    {
     "name": "stdout",
     "output_type": "stream",
     "text": [
      "+-------------+---------+------------+--------------------+-------------+--------------+--------------------+\n",
      "|  Chronologia|    Gmina| Miejscowosc|Nr_rejestru_zabytkow|Nr_stanowiska|Typ_stanowiska|                 _id|\n",
      "+-------------+---------+------------+--------------------+-------------+--------------+--------------------+\n",
      "|średniowiecze|Kluczbork|       Bąków|          A - 312/70|            2|     grodzisko|[5ba16d7bfa9b9f35...|\n",
      "|średniowiecze|Kluczbork|     Biadacz|          A - 384/74|            5|     grodzisko|[5ba16d7bfa9b9f35...|\n",
      "|średniowiecze|Kluczbork|Czaple Stare|          A - 510/79|            3|         osada|[5ba16d7bfa9b9f35...|\n",
      "+-------------+---------+------------+--------------------+-------------+--------------+--------------------+\n",
      "\n"
     ]
    }
   ],
   "source": [
    "df.filter(df['Chronologia'] == 'średniowiecze').show()"
   ]
  },
  {
   "cell_type": "markdown",
   "metadata": {},
   "source": [
    "SQL"
   ]
  },
  {
   "cell_type": "code",
   "execution_count": 7,
   "metadata": {},
   "outputs": [
    {
     "name": "stdout",
     "output_type": "stream",
     "text": [
      "+-------------+---------+------------+--------------------+-------------+--------------+--------------------+\n",
      "|  Chronologia|    Gmina| Miejscowosc|Nr_rejestru_zabytkow|Nr_stanowiska|Typ_stanowiska|                 _id|\n",
      "+-------------+---------+------------+--------------------+-------------+--------------+--------------------+\n",
      "|średniowiecze|Kluczbork|       Bąków|          A - 312/70|            2|     grodzisko|[5ba16d7bfa9b9f35...|\n",
      "|średniowiecze|Kluczbork|     Biadacz|          A - 384/74|            5|     grodzisko|[5ba16d7bfa9b9f35...|\n",
      "|średniowiecze|Kluczbork|Czaple Stare|          A - 510/79|            3|         osada|[5ba16d7bfa9b9f35...|\n",
      "+-------------+---------+------------+--------------------+-------------+--------------+--------------------+\n",
      "\n"
     ]
    }
   ],
   "source": [
    "df.createOrReplaceTempView(\"temp\")\n",
    "selected = sqlContext.sql(\"SELECT * FROM temp WHERE chronologia = 'średniowiecze'\")\n",
    "selected.show()"
   ]
  },
  {
   "cell_type": "markdown",
   "metadata": {},
   "source": [
    "Output - parquet"
   ]
  },
  {
   "cell_type": "code",
   "execution_count": 8,
   "metadata": {},
   "outputs": [],
   "source": [
    "df.write.parquet(\"output/test.parquet\")"
   ]
  }
 ],
 "metadata": {
  "kernelspec": {
   "display_name": "Python 3",
   "language": "python",
   "name": "python3"
  },
  "language_info": {
   "codemirror_mode": {
    "name": "ipython",
    "version": 3
   },
   "file_extension": ".py",
   "mimetype": "text/x-python",
   "name": "python",
   "nbconvert_exporter": "python",
   "pygments_lexer": "ipython3",
   "version": "3.6.6"
  }
 },
 "nbformat": 4,
 "nbformat_minor": 2
}
